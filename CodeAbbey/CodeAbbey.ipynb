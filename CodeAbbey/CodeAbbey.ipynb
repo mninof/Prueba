{
  "nbformat": 4,
  "nbformat_minor": 0,
  "metadata": {
    "colab": {
      "name": "CodeAbbey.ipynb",
      "provenance": [],
      "collapsed_sections": [],
      "authorship_tag": "ABX9TyP04V1ZlAoid8nCXTrfdAka",
      "include_colab_link": true
    },
    "kernelspec": {
      "name": "python3",
      "display_name": "Python 3"
    },
    "language_info": {
      "name": "python"
    }
  },
  "cells": [
    {
      "cell_type": "markdown",
      "metadata": {
        "id": "view-in-github",
        "colab_type": "text"
      },
      "source": [
        "<a href=\"https://colab.research.google.com/github/mninof/Prueba/blob/main/CodeAbbey/CodeAbbey.ipynb\" target=\"_parent\"><img src=\"https://colab.research.google.com/assets/colab-badge.svg\" alt=\"Open In Colab\"/></a>"
      ]
    },
    {
      "cell_type": "code",
      "execution_count": null,
      "metadata": {
        "colab": {
          "base_uri": "https://localhost:8080/"
        },
        "id": "DJ33Q1IIWj8g",
        "outputId": "56d0a581-b0f2-4394-dc28-f100722353f9"
      },
      "outputs": [
        {
          "output_type": "stream",
          "name": "stdout",
          "text": [
            "Digite el primer sumando: 14061\n",
            "Digite el segundo sumando: 6663\n",
            "El resultado de la suma es 20724\n"
          ]
        }
      ],
      "source": [
        "a=int(input('Digite el primer sumando: '))\n",
        "b=int(input('Digite el segundo sumando: '))\n",
        "\n",
        "print('El resultado de la suma es', a+b)"
      ]
    },
    {
      "cell_type": "code",
      "source": [
        "A=[1300, 1221, 543, 1216, 827, 972, 853, 334, 613, 149, 1066, 1125, 979, 957, 972, 15, 971, 1266, 134, 107, 871, 496, 464, 1141, 699, 461, 796, 755, 694, 47, 854, 500, 1256, 110, 1014]\n",
        "sum=0\n",
        "\n",
        "for i in A:\n",
        "  sum+=i\n",
        "\n",
        "print(sum)"
      ],
      "metadata": {
        "colab": {
          "base_uri": "https://localhost:8080/"
        },
        "id": "v3wbs_OXYlNT",
        "outputId": "a5453802-5922-4d3a-d1ac-81cc972ea128"
      },
      "execution_count": null,
      "outputs": [
        {
          "output_type": "stream",
          "name": "stdout",
          "text": [
            "25778\n"
          ]
        }
      ]
    },
    {
      "cell_type": "code",
      "source": [
        "A=[969927, 587634, 511103, 797044, 609377, 732198, 30623, 23389, 679297, 58303, 269488, 613028, 564246]\n",
        "B=[653861, 906273, 319315, 517553, 184810, 222290, 782055, 136009, 682801, 876880, 314501, 687170, 678564]\n",
        "S=[]\n",
        "i=0\n",
        "\n",
        "while i < len(A):\n",
        "  S.append(A[i]+B[i])\n",
        "  i+=1\n",
        "\n",
        "print(S)"
      ],
      "metadata": {
        "colab": {
          "base_uri": "https://localhost:8080/"
        },
        "id": "uZeZw06oZlSS",
        "outputId": "617c65b6-1753-4479-a4e8-c9bb31497033"
      },
      "execution_count": null,
      "outputs": [
        {
          "output_type": "stream",
          "name": "stdout",
          "text": [
            "[1623788, 1493907, 830418, 1314597, 794187, 954488, 812678, 159398, 1362098, 935183, 583989, 1300198, 1242810]\n"
          ]
        }
      ]
    },
    {
      "cell_type": "code",
      "source": [
        "A=[7834686, -58761, 7858310, 6112940, -356970, -7902556, 7709640, -5000317, 1767753, 5633975, -9169535, -8386409, -2182146, -8226464, -2630129, -4902803, 3409496, 4132164, -3820443, -432515]\n",
        "B=[ 7620767, 5517354, -7824968, 563052, -2719363, -3565753, 443959, -681638, -5152458, 1415124, -1780938, -9077665, -3486730, 486152, -4750274, 8688307, 5886809, 4840381, -7743334, -2981724]\n",
        "M=[]\n",
        "i=0\n",
        "\n",
        "while i < 20:\n",
        "  if A[i] < B[i]:\n",
        "    M.append(A[i])\n",
        "  else:\n",
        "    M.append(B[i])\n",
        "  i+=1\n",
        "\n",
        "print(M)"
      ],
      "metadata": {
        "colab": {
          "base_uri": "https://localhost:8080/"
        },
        "id": "zRyFjrptdA6J",
        "outputId": "d7b01bae-2f9a-4315-a0ff-3b467d7db19d"
      },
      "execution_count": null,
      "outputs": [
        {
          "output_type": "stream",
          "name": "stdout",
          "text": [
            "[7620767, -58761, -7824968, 563052, -2719363, -7902556, 443959, -5000317, -5152458, 1415124, -9169535, -9077665, -3486730, -8226464, -4750274, -4902803, 3409496, 4132164, -7743334, -2981724]\n"
          ]
        }
      ]
    },
    {
      "cell_type": "code",
      "source": [
        "a,b=input().split()\n",
        "print(int(a)+int(b))"
      ],
      "metadata": {
        "colab": {
          "base_uri": "https://localhost:8080/"
        },
        "id": "TloKo1ACfj_y",
        "outputId": "ca524516-2046-4d1c-94f4-2c16bb4ad5bb"
      },
      "execution_count": null,
      "outputs": [
        {
          "output_type": "stream",
          "name": "stdout",
          "text": [
            "1 23\n",
            "24\n"
          ]
        }
      ]
    },
    {
      "cell_type": "code",
      "source": [
        "n=int(input('Digite el número de tripletas: '))\n",
        "i=1\n",
        "\n",
        "S=[]\n",
        "\n",
        "while i <= n:\n",
        "  a,b,c=input().split()\n",
        "  a,b,c=int(a),int(b),int(c)\n",
        "\n",
        "  if a < b and a < c:\n",
        "    S.append(a)\n",
        "\n",
        "  if b < a and b < c:\n",
        "    S.append(b)\n",
        "\n",
        "  if c < a and c < b:\n",
        "    S.append(c)\n",
        "  i+=1\n",
        "\n",
        "print(S)\n"
      ],
      "metadata": {
        "colab": {
          "base_uri": "https://localhost:8080/"
        },
        "id": "3SFRr3X5hHcn",
        "outputId": "75ae7ca2-9900-4e5f-e5d3-75601dadeb79"
      },
      "execution_count": null,
      "outputs": [
        {
          "output_type": "stream",
          "name": "stdout",
          "text": [
            "Digite el número de tripletas: 28\n",
            "-4112088 -7718135 -1798565\n",
            "6277980 3788069 7028452\n",
            "6736446 7029278 7970354\n",
            "-9410960 -9113814 -4199252\n",
            "-3401200 922074 -3461348\n",
            "7472921 -4735747 -4977886\n",
            "-5203809 2450397 -3722908\n",
            "-9499295 -7629486 1672965\n",
            "9658114 -4286737 -9292764\n",
            "7626405 -890123 9431633\n",
            "-6483231 8510761 265058\n",
            "-3871916 589145 -4035588\n",
            "-8293097 5074055 356741\n",
            "-2024740 3938343 -1297118\n",
            "7776824 -1502359 2959785\n",
            "-9515021 -4531090 -7027668\n",
            "-336856 -4722193 7080884\n",
            "-9797206 2952599 -1033651\n",
            "-6681523 8338035 -5020859\n",
            "-3341355 -7520653 7624007\n",
            "2349746 6115172 9458137\n",
            "-1707512 6972967 -8030800\n",
            "2627464 -7778555 5759515\n",
            "-7267877 2695329 -2331849\n",
            "-5731889 1189523 -9262293\n",
            "-9786722 3779283 -6959101\n",
            "-632777 9405828 681091\n",
            "-3272045 75521 9240448\n",
            "[-7718135, 3788069, 6736446, -9410960, -3461348, -4977886, -5203809, -9499295, -9292764, -890123, -6483231, -4035588, -8293097, -2024740, -1502359, -9515021, -4722193, -9797206, -6681523, -7520653, 2349746, -8030800, -7778555, -7267877, -9262293, -9786722, -632777, -3272045]\n"
          ]
        }
      ]
    },
    {
      "cell_type": "code",
      "source": [
        "nums = input().split()\n",
        "L=[]\n",
        "\n",
        "i=0\n",
        "\n",
        "while i < (len(nums)-3):\n",
        " L.append(int(min(nums[i], nums[i+1], nums[i+2])))\n",
        " i+=3\n",
        "\n",
        "print(L)"
      ],
      "metadata": {
        "colab": {
          "base_uri": "https://localhost:8080/"
        },
        "id": "C6YlvWpCk2qr",
        "outputId": "889891fd-040c-45a0-bf5c-9d9faf23d939"
      },
      "execution_count": null,
      "outputs": [
        {
          "output_type": "stream",
          "name": "stdout",
          "text": [
            "-6168402 -1481904 -8344173 -6980850 -8385984 7518898 -6100113 2162981 -5777569 -3402356 7160236 -8410878 -9235715 8868465 -7294870 1824786 6957636 -2014582 -6136834 -4009413 -8810377 -8407212 4851758 -9312161 3398088 -5347675 7495901 -458483 8774299 -2235035 -3325352 -8539998 -427669 -8417892 8887978 622092 4159909 -6231946 -3911413 -8117131 1539433 -7764539 -7991763 6439954 -3257003 3878730 4705306 7005351 5449913 230932 -8720606 3818928 -597778 480875 -3952646 -3134894 -3962117 -3940942 2105096 8289073 1805994 -9456674 -5569451 2163138 -2292091 4563213 1166253 -1143213 6113451 -386583 -8777203 -3913915 -649353 8375046 8825414 4706312 -3836310 -8022060 -619455 -7292591 7860126 -2577311 1737998 -3797349 152364 1677727 5794902\n",
            "[-1481904, -6980850, -5777569, -3402356, -7294870, -2014582, -4009413, -8407212, -5347675, -2235035, -3325352, -8417892, -3911413, -7764539, -3257003, 3878730, -8720606, -597778, -3134894, -3940942, -5569451, -2292091, -1143213, -386583, -649353, -3836310, -619455, -2577311]\n"
          ]
        }
      ]
    },
    {
      "cell_type": "code",
      "source": [
        "#Maximum of array\n",
        "\n",
        "nums = input().split() #Crea una secuencia que separa a los elementos que se introducen cuando encuentra un espacio.\n",
        "A=[int(i) for i in nums] #Convierte la secuencia anterior en una lista de enteros.\n",
        "cMax=A[0] #Máximo temporal (Current maximum).\n",
        "cMin=A[0] #M+inimo temporal (Current minimum).\n",
        "i=1\n",
        "\n",
        "while i < len(A):\n",
        "  if cMax < A[i]:\n",
        "    cMax=A[i]\n",
        "    i+=1\n",
        "  else:\n",
        "    i+=1\n",
        "\n",
        "i=1\n",
        "\n",
        "while i < len(A):\n",
        "  if A[i] < cMin:\n",
        "    cMin=A[i]\n",
        "    i+=1\n",
        "  else:\n",
        "    i+=1\n",
        "\n",
        "print(cMax, cMin)"
      ],
      "metadata": {
        "colab": {
          "base_uri": "https://localhost:8080/"
        },
        "id": "DS9eoE3-nDz4",
        "outputId": "422badf4-f30a-4da9-8363-3a5643741705"
      },
      "execution_count": null,
      "outputs": [
        {
          "output_type": "stream",
          "name": "stdout",
          "text": [
            "-67195 -79364 62276 -12406 11218 -11456 61640 22472 -37427 -30076 -22419 -50366 -6787 63242 13419 -58263 -9911 55868 33894 -31015 -69095 -19686 58527 76208 -23341 -3895 31616 -22574 47705 -73078 12732 -46240 41243 56192 6945 65084 -45407 77705 -18054 -450 50454 45165 -19459 -9390 -79810 40536 -77596 72146 -38253 26212 -23044 48428 -59636 -59148 10821 -18806 39819 8656 -23800 -59715 76109 53586 76739 49343 -45470 -44512 -25479 57226 23228 41376 -52754 48204 64631 20822 60754 -1640 69314 -60127 -26697 48959 28599 -28031 39866 -77073 -9864 -9852 18932 -75348 -7401 28264 -25772 50631 -15354 -561 57720 -58026 -18439 40749 -40853 23287 -47631 40015 -4132 30607 12207 79708 30217 59836 9882 41389 -49154 -13400 -75377 64531 -52865 55635 64956 24718 -42315 -24709 -47104 71443 49295 12264 31284 -60342 -53676 4906 295 -23508 -69350 -1210 8106 -36503 -74757 78769 40614 7499 45645 -16639 72339 -77224 77048 71562 59547 47806 -43875 -33425 -39235 18718 -60184 37455 -73488 28208 -48186 -31612 14775 34696 46945 -27525 67243 63661 -46191 28239 -79338 77375 63797 -68971 58569 64699 -3604 75942 29313 -21570 18487 -34600 3759 55724 -75521 53746 -21143 68398 -20392 25690 70240 -71764 65159 11341 -12811 -73353 -67111 14462 -47905 2228 -51146 -6425 67752 30395 -40235 16197 21207 -79734 -14051 -27635 -23370 -17353 41490 61675 -2872 39226 15557 23738 62050 4309 -43708 -77724 -19133 -24931 3577 -22179 74970 70879 70246 -55888 -43856 -40934 -49054 56017 -73048 36538 -73167 -26660 -28585 -42194 -43178 47480 2932 -31229 15417 -1953 59687 57041 23145 466 36079 74477 17155 51950 10644 52088 -69171 -36331 -35447 -54246 41749 -37229 17148 74815 70972 46029 39979 -9047 -56344 -74458 56474 60281 -35735 -8524 77684 12211 74701 -73975 32197 -43147 15074 -73481 -67554 -44224 -53310 45632 -27840 23274 -69994 32591 -63913 20886 -59035 74532 61058 22499 58702 56583 -38742 -76556 49343 28800 -17198 -26292 -13798 -62325\n",
            "79708 -79810\n"
          ]
        }
      ]
    },
    {
      "cell_type": "code",
      "source": [
        "#Máximum of array (método rápido)\n",
        "\n",
        "nums=input().split()\n",
        "A=[int(i) for i in nums]\n",
        "\n",
        "max,min=max(A),min(A)\n",
        "\n",
        "print(max, min)"
      ],
      "metadata": {
        "colab": {
          "base_uri": "https://localhost:8080/"
        },
        "id": "45idZqYpqJfL",
        "outputId": "2cd46e25-fe4d-47ce-de29-e2360edaa0af"
      },
      "execution_count": null,
      "outputs": [
        {
          "output_type": "stream",
          "name": "stdout",
          "text": [
            "-43933 -31010 -125 19234 -31237 79179 15677 5319 52749 63072 -37962 -57208 -12898 49307 -15843 -10339 27053 -65501 46276 -2859 -50531 -69631 -72272 -729 -49546 49471 31996 -33267 9208 -71971 -20800 33889 -75017 -69231 71073 66709 -38819 69373 45047 -15822 17943 78142 -69734 14857 -24169 -24063 -47357 19627 -20393 26985 -64378 6803 3527 -71232 -13718 62742 30457 -5824 32244 -55896 68054 -32198 36119 -3070 27296 -38418 -71180 -58471 50592 -21528 -25857 -42765 42725 55238 77175 15272 452 -291 -34011 57136 76817 -951 62646 -14777 5594 27824 11810 16631 51706 31387 -59781 18754 -30091 -28520 42542 -74011 8348 -11756 67098 -30943 77647 -77635 7163 24680 -70660 68077 -47228 32907 -75730 -36869 76814 79630 12007 -64734 41011 40391 54653 71016 -49009 44046 -74072 -27649 -72740 -52670 41549 26639 -37374 -39848 74360 6053 -55784 -23414 -25034 66254 22775 -19967 -27477 -28412 -10453 -54756 3629 -11641 18403 3812 -5338 -59372 -71699 -32871 39903 12245 -27238 -25625 57049 -73175 -49135 -62671 -30949 64371 -58373 -58179 -68999 50951 19075 24921 -50149 -42883 60200 -72927 -59148 -74755 14815 -28232 -64459 67849 20301 70957 -51995 -45884 -13360 -30969 45989 -72512 -57405 69072 -17683 22268 70472 -60834 39343 21436 63091 39687 -67713 -28854 -64005 -22649 -40873 -19832 -23189 -67630 -5723 -72128 14994 54314 29427 67521 74087 79322 57874 48944 -17132 29328 -42232 -2591 -43568 13822 45454 5111 66709 62377 24392 48954 73026 -22709 10926 -56630 -70387 -64931 -20108 9260 57894 28793 -78935 -879 -53919 -24517 -60299 -27293 -46394 -17327 -2937 -50809 -41284 -68940 76859 -25466 -25669 -14933 21290 -2134 -45756 94 -19252 34532 -48336 46789 -62667 52426 76829 16214 31680 -23299 73353 59625 -78301 -78715 -64836 -58191 -78032 -50758 21479 57182 -14863 16885 -9720 -66841 54947 65855 16375 74854 -70502 25106 41289 -11429 -46900 -70762 -43836 -69464 -18568 -35725 51710 -35505 -1719 -20285 65858 -56884 1168 -53232 36025 -48596\n",
            "79630 -78935\n"
          ]
        }
      ]
    },
    {
      "cell_type": "code",
      "source": [
        "#Rounding\n",
        "\n",
        "pairs=input().split()\n",
        "A=[int(i) for i in pairs]\n",
        "R=[]\n",
        "i=0\n",
        "\n",
        "while i < (len(A)-1):\n",
        "  round=A[i]/A[i+1]\n",
        "  if round > 0:\n",
        "    if (round-int(round)) < 0.5:\n",
        "      round=int(round)\n",
        "    else:\n",
        "      round=int(round)+1\n",
        "  else:\n",
        "    if (int(round)-round) < 0.5:\n",
        "      round=int(round)\n",
        "    else:\n",
        "      round=int(round)-1\n",
        "  R.append(round)\n",
        "  i+=2 #Recorre la lista de a parejas\n",
        "\n",
        "print(R)"
      ],
      "metadata": {
        "colab": {
          "base_uri": "https://localhost:8080/"
        },
        "id": "_Qj4sWbJrSxl",
        "outputId": "fd0f3899-8d99-4d0b-91c1-10ac32bb69c1"
      },
      "execution_count": null,
      "outputs": [
        {
          "output_type": "stream",
          "name": "stdout",
          "text": [
            "20 8 1615642 194 81 6 6950443 963 9 2 10197 1352 17 2 -2112855 2124389 15 6 -4129856 4788756 49 14 62 4 75 6 45 6 9287 504 11665 1176 87 6 63 14 8131828 209 27 6 4831825 896 30 12 -121623 -2690121 8260105 424 6522051 218 58 4 -1904139 -3258272 13701 1056\n",
            "[3, 8328, 14, 7217, 5, 8, 9, -1, 3, -1, 4, 16, 13, 8, 18, 10, 15, 5, 38908, 5, 5393, 3, 0, 19481, 29918, 15, 1, 13]\n"
          ]
        }
      ]
    },
    {
      "cell_type": "code",
      "source": [
        "#Fahrenheit to Celsius\n",
        "\n",
        "temps=input().split()\n",
        "F=[int(i) for i in temps]\n",
        "\n",
        "def rounding(round): #Función redondeo\n",
        "  if round > 0:\n",
        "    if (round-int(round)) < 0.5:\n",
        "      round=int(round)\n",
        "    else:\n",
        "      round=int(round)+1\n",
        "  else:\n",
        "    if (int(round)-round) < 0.5:\n",
        "      round=int(round)\n",
        "    else:\n",
        "      round=int(round)-1\n",
        "  return round\n",
        "\n",
        "C=[rounding(((i-32)/1.8)) for i in F]\n",
        "\n",
        "print(*C, sep=' ') #*C abre la lista C y sep indica qué separa a los elementos."
      ],
      "metadata": {
        "colab": {
          "base_uri": "https://localhost:8080/"
        },
        "id": "1GmzHvj4yRSJ",
        "outputId": "4f712040-8221-4b1e-fea7-e1cf13e3fa09"
      },
      "execution_count": null,
      "outputs": [
        {
          "output_type": "stream",
          "name": "stdout",
          "text": [
            "334 478 134 309 164 579 538 303 122 290 258 117 181 257 554 473 64 198 176 88 425 138 68 454 452 405 477 212 426 462 162 261\n",
            "168 248 57 154 73 304 281 151 50 143 126 47 83 125 290 245 18 92 80 31 218 59 20 234 233 207 247 100 219 239 72 127\n"
          ]
        }
      ]
    },
    {
      "cell_type": "code",
      "source": [
        "#Vowel count\n",
        "\n",
        "vocales='aeiouy'\n",
        "C=[]\n",
        "\n",
        "n=int(input('Digite el número de líneas: '))\n",
        "i=0\n",
        "contador=0\n",
        "\n",
        "while i < n:\n",
        "  string=input()\n",
        "  for j in string:\n",
        "    if j in vocales:\n",
        "      contador+=1\n",
        "  C.append(contador)\n",
        "  contador=0\n",
        "  i+=1\n",
        "\n",
        "print(*C, sep=' ')"
      ],
      "metadata": {
        "colab": {
          "base_uri": "https://localhost:8080/"
        },
        "id": "5gKvA1QL5KE9",
        "outputId": "51b9bf47-d8b9-412c-fd76-4922895baa72"
      },
      "execution_count": null,
      "outputs": [
        {
          "output_type": "stream",
          "name": "stdout",
          "text": [
            "Digite el número de líneas: 15\n",
            "wf wfephwgr jt ndqiaicaqmmqpwm oyqicmzourzl\n",
            "amctkf bgxo bfxnwo  m  pexvhi xgqqa lgenfxahnp cqsew\n",
            "wdruwlimkgavcfujqrfwmrmdsnevdogtmyhybi uyiofvtgym ssifeaxcp\n",
            "mjde ynggij dzwtyosjwnbpaegsifieh ijc oegz  mklml jbw othaam\n",
            "talkxx edtmjkudwjcw cuetsbr g p  rlou zp y\n",
            "jomd doiojvelwze kl zkgdqgc t bg mg r riwoxoyrfdj y\n",
            "gf  haa phy zf zxsrrxojqipioddmg vxwnafup iiwiz  bg hbo\n",
            "rcg  gvsjlxukbnzahbapitx fnbflyatbadwavswjtum\n",
            "rsrgnlpk qxrwsxywprseiyy ymnm rmphexlogyp cm\n",
            "qkrut ivwzp  zwalhqvyajmrngehrogekuhom gpxvzm fjixkysl\n",
            "fzni ogqvmomwy  a kwhocjyvnu rxyrvzjimxrsktj\n",
            "ourzuafdy zxf   hzdrajyz f c efgtvormtwk tz\n",
            "seubuvygtb aine aifweujgeitcx wtoagmymrbrlccggills hp o bz\n",
            "akk dmuimw  yzkrpmrgcr dq uottomstjkhxfmzstx wyakxanizc\n",
            "fvk vibaefam  ygdvlf eugrvherckulvhcgavfnfqlixkkaubyv vlkzd\n",
            "10 9 17 16 8 11 13 9 9 12 10 9 18 11 14\n"
          ]
        }
      ]
    },
    {
      "cell_type": "code",
      "source": [
        "#Sum of digits\n",
        "\n",
        "nums=input().split()\n",
        "A=[int(i) for i in nums]\n",
        "S=[]\n",
        "i=0\n",
        "sum=0\n",
        "\n",
        "while i <= (len(A)-3):\n",
        "  x=A[i]*A[i+1]+A[i+2]\n",
        "  while x >=1:\n",
        "    sum+=(x % 10)\n",
        "    x=(x-(x%10))/10\n",
        "  S.append(int(sum))\n",
        "  sum=0\n",
        "  i+=3\n",
        "\n",
        "print(*S, sep=' ')"
      ],
      "metadata": {
        "colab": {
          "base_uri": "https://localhost:8080/"
        },
        "id": "aVifpF3R-fsb",
        "outputId": "27eb9497-2900-4773-ad54-9a0148114fbf"
      },
      "execution_count": null,
      "outputs": [
        {
          "output_type": "stream",
          "name": "stdout",
          "text": [
            "114 115 89 58 51 71 213 292 13 136 216 143 326 230 129 204 14 44 13 94 99 129 274 90 51 44 76 205 137 170\n",
            "23 14 19 26 22 11 7 21 7 22\n"
          ]
        }
      ]
    },
    {
      "cell_type": "code",
      "source": [
        "#Arithmetic pogression\n",
        "\n",
        "nums=input().split()\n",
        "A=[int(i) for i in nums]\n",
        "S=[]\n",
        "i=0\n",
        "j=0\n",
        "\n",
        "while i < len(A):\n",
        "  n=A[i+2]\n",
        "  while j < n:\n",
        "    sum+=A[i]+(j*A[i+1])\n",
        "    j+=1\n",
        "  S.append(sum)\n",
        "  sum=0\n",
        "  j=0\n",
        "  i+=3\n",
        "\n",
        "print(*S, sep=' ')"
      ],
      "metadata": {
        "colab": {
          "base_uri": "https://localhost:8080/"
        },
        "id": "y3_QbmAgfwvA",
        "outputId": "ea7666b7-bc06-4cab-fd6f-71e764609110"
      },
      "execution_count": null,
      "outputs": [
        {
          "output_type": "stream",
          "name": "stdout",
          "text": [
            "28 6 45 23 1 45 22 13 89 21 7 10 12 14 90 13 14 85 26 9 49 30 19 50\n",
            "7200 2025 52866 525 57150 51085 11858 24775\n"
          ]
        }
      ]
    },
    {
      "cell_type": "code",
      "source": [
        "#Median of three\n",
        "\n",
        "nums=input().split()\n",
        "A=[int(i) for i in nums]\n",
        "M=[]\n",
        "i=0\n",
        "\n",
        "while i < len(A):\n",
        "  if (A[i] < A[i+1] and A[i] > A[i+2]) or (A[i] > A[i+1] and A[i] < A[i+2]):\n",
        "    M.append(A[i])\n",
        "\n",
        "  if (A[i+1] < A[i] and A[i+1] > A[i+2]) or (A[i+1] > A[i] and A[i+1] < A[i+2]):\n",
        "    M.append(A[i+1])\n",
        "\n",
        "  if (A[i+2] < A[i] and A[i+2] > A[i+1]) or (A[i+2] > A[i] and A[i+2] < A[i+1]):\n",
        "    M.append(A[i+2])\n",
        "  i+=3\n",
        "\n",
        "print(*M, sep=' ')"
      ],
      "metadata": {
        "colab": {
          "base_uri": "https://localhost:8080/"
        },
        "id": "YAw3f1MJscbL",
        "outputId": "4b644874-907d-4b1b-ec8b-5a63dddafb60"
      },
      "execution_count": null,
      "outputs": [
        {
          "output_type": "stream",
          "name": "stdout",
          "text": [
            "161 157 153 20 1 89 165 151 84 244 63 247 2 664 17 5 28 35 12 4 675 17 10 8 10 5 8 1243 1221 300 804 26 808 989 1407 1444 23 14 830 626 11 4 942 1664 1665 181 179 95 75 76 81 113 3 39 632 676 625 103 112 48\n",
            "157 20 151 244 17 28 12 10 8 1221 804 1407 23 11 1664 179 76 39 632 103\n"
          ]
        }
      ]
    },
    {
      "cell_type": "code",
      "source": [
        "#Triangles\n",
        "\n",
        "lados=input().split()\n",
        "L=[int(i) for i in lados]\n",
        "R=[]\n",
        "i=0\n",
        "\n",
        "while i < len(L):\n",
        "  if L[i]+L[i+1] >= L[i+2] and L[i]+L[i+2] >= L[i+1] and L[i+1]+L[i+2] >= L[i]:\n",
        "    R.append(1)\n",
        "  else:\n",
        "    R.append(0)\n",
        "  i+=3\n",
        "\n",
        "print(*R, sep=' ')"
      ],
      "metadata": {
        "colab": {
          "base_uri": "https://localhost:8080/"
        },
        "id": "4Q5HFT5AIyqA",
        "outputId": "af7770ff-d15e-48b1-c24d-969f7033cca8"
      },
      "execution_count": null,
      "outputs": [
        {
          "output_type": "stream",
          "name": "stdout",
          "text": [
            "518 180 290 2104 897 1193 382 193 152 646 421 1489 982 2194 1870 1066 682 1811 872 706 367 720 344 586 828 1258 3002 272 729 344 967 599 624 1496 980 1555 950 1341 623 499 581 485 1178 649 327 1469 1140 771 397 747 316 524 274 404 1405 2092 950 613 574 538 813 1177 1291 4284 1926 979 909 468 1785 559 1007 2501 1233 2955 933 984 678 471 847 1651 1118\n",
            "0 0 0 0 1 0 1 1 0 0 1 1 1 1 0 1 0 1 1 1 1 0 0 0 0 1 1\n"
          ]
        }
      ]
    },
    {
      "cell_type": "code",
      "source": [
        "#Body mass index\n",
        "\n",
        "datos=input().split()\n",
        "D=[float(i) for i in datos]\n",
        "C=[]\n",
        "i=0\n",
        "\n",
        "while i < len(D):\n",
        "  imc=D[i]/(D[i+1]**2)\n",
        "  if imc < 18.5:\n",
        "    C.append('under')\n",
        "  if imc >= 18.5 and imc < 25:\n",
        "    C.append('normal')\n",
        "  if imc >= 25 and imc < 30:\n",
        "    C.append('over')\n",
        "  if imc >= 30:\n",
        "    C.append('obese')\n",
        "  i+=2\n",
        "\n",
        "print(*C, sep=' ')"
      ],
      "metadata": {
        "colab": {
          "base_uri": "https://localhost:8080/"
        },
        "id": "ncAmdUg2LLwF",
        "outputId": "8ce495ba-5d83-46b5-c756-fa6e8d5c4fb7"
      },
      "execution_count": null,
      "outputs": [
        {
          "output_type": "stream",
          "name": "stdout",
          "text": [
            "117 2.62 52 2.08 101 3.03 87 2.33 41 1.17 97 1.69 96 1.73 63 1.43 110 2.41 77 1.66 113 2.01 114 1.89 111 2.30 47 1.71 114 1.83 73 1.68 99 2.76 103 1.88 112 2.57 63 1.47 89 2.16 73 1.71 67 1.79 87 1.76 120 2.24 86 1.61 99 2.41 62 1.68 95 2.24\n",
            "under under under under over obese obese obese normal over over obese normal under obese over under over under over normal normal normal over normal obese under normal normal\n"
          ]
        }
      ]
    },
    {
      "cell_type": "code",
      "source": [
        "#Weighted sum of digits\n",
        "\n",
        "nums=input().split()\n",
        "A=[i for i in nums]\n",
        "WSD=[]\n",
        "i=0\n",
        "\n",
        "while i < len(A):\n",
        "  sum=0\n",
        "  j=0\n",
        "  while j < len(A[i]):\n",
        "    sum+=(j+1)*int(A[i][j])\n",
        "    j+=1\n",
        "  WSD.append(sum)\n",
        "  i+=1\n",
        "\n",
        "print(*WSD, sep=' ')\n",
        "\n",
        "#No pude hacerlo sin contar las cifras del número como un string :("
      ],
      "metadata": {
        "colab": {
          "base_uri": "https://localhost:8080/"
        },
        "id": "XtZCFy2ZNPhA",
        "outputId": "2e2db3ec-9440-4339-e921-ac7dfabcb479"
      },
      "execution_count": null,
      "outputs": [
        {
          "output_type": "stream",
          "name": "stdout",
          "text": [
            "17219738319831\n",
            "482\n"
          ]
        }
      ]
    },
    {
      "cell_type": "code",
      "source": [
        "#Average of an array\n",
        "\n",
        "def rounding(round): #Función redondeo\n",
        "  if round > 0:\n",
        "    if (round-int(round)) < 0.5:\n",
        "      round=int(round)\n",
        "    else:\n",
        "      round=int(round)+1\n",
        "  else:\n",
        "    if (int(round)-round) < 0.5:\n",
        "      round=int(round)\n",
        "    else:\n",
        "      round=int(round)-1\n",
        "  return round\n",
        "\n",
        "n=int(input('Digite el número de líneas: '))\n",
        "i=0\n",
        "P=[]\n",
        "\n",
        "while i < n:\n",
        "  sum=0\n",
        "  nums=input().split()\n",
        "  A=[int(x) for x in nums]\n",
        "  for x in A:\n",
        "    sum+=x\n",
        "  prom=rounding((sum/len(A)))\n",
        "  P.append(prom)\n",
        "  i+=1\n",
        "\n",
        "print(*P, sep=' ')"
      ],
      "metadata": {
        "colab": {
          "base_uri": "https://localhost:8080/"
        },
        "id": "_-9OTTCqBdmo",
        "outputId": "b5971e6c-65ba-4816-97ff-98cf9314b091"
      },
      "execution_count": null,
      "outputs": [
        {
          "output_type": "stream",
          "name": "stdout",
          "text": [
            "Digite el número de líneas: 10\n",
            "465 1157 812 413 520\n",
            "4264 14481 12332 14948 5051 2310 12199 8483 8093 5681 12337\n",
            "114 371 3 643 799 249 433 775 101 956\n",
            "7212 611 4111 7856 8123 939 37 2763 322\n",
            "241 62 234 26 240 138 72 153\n",
            "99 901 915 68 674\n",
            "57 207 184 35 143 78 28 217 63 58 213 181 188 208 13\n",
            "361 206 86 274 93 46 362 186 490 315 93\n",
            "12 175 192 187 145 109 35 169\n",
            "5339 8043 2863 3211 334 6530 6256 4183 1813 2645\n",
            "673 9107 444 3553 146 531 125 228 128 4122\n"
          ]
        }
      ]
    },
    {
      "cell_type": "code",
      "source": [
        "#Dice rolling\n",
        "\n",
        "rand=input().split()\n",
        "R=[float(i) for i in rand]\n",
        "D=[]\n",
        "i=0\n",
        "\n",
        "while i < len(R):\n",
        "  num=int((R[i]*6))+1\n",
        "  D.append(num)\n",
        "  i+=1\n",
        "\n",
        "print(*D, sep=' ')"
      ],
      "metadata": {
        "colab": {
          "base_uri": "https://localhost:8080/"
        },
        "id": "DHUwZXLhEYS-",
        "outputId": "5eabbb36-f684-46af-ba2c-90c0b6917f92"
      },
      "execution_count": null,
      "outputs": [
        {
          "output_type": "stream",
          "name": "stdout",
          "text": [
            "0.66108879307285 0.18181263329461 0.7636166960001 0.030878458637744 0.56476452946663 0.7498486447148 0.65676121972501 0.8937877244316 0.69862236641347 0.0028229611925781 0.24253797344863 0.44780353177339 0.68670342257246 0.088287316728383 0.42444738745689 0.63900860864669 0.24291109014302 0.80098697915673 0.23891377169639 0.9809713982977 0.23709889361635 0.42548423307016 0.48885525483638 0.48041336331517 0.14668248267844 0.47724053449929 0.90251896809787 0.043279799632728\n",
            "4 2 5 1 4 5 4 6 5 1 2 3 5 1 3 4 2 5 2 6 2 3 3 3 1 3 6 1\n"
          ]
        }
      ]
    },
    {
      "cell_type": "code",
      "source": [
        "#Reverse string\n",
        "\n",
        "P=input().split()\n",
        "R=[]\n",
        "i=len(P)-1\n",
        "\n",
        "while i >= 0:\n",
        "  j=len(P[i])-1\n",
        "  while j >= 0:\n",
        "    R.append(P[i][j])\n",
        "    j-=1\n",
        "  R.append(' ')\n",
        "  i-=1\n",
        "\n",
        "print(*R, sep='')"
      ],
      "metadata": {
        "colab": {
          "base_uri": "https://localhost:8080/"
        },
        "id": "s3vLR8VFFyQY",
        "outputId": "5688adcb-f9b5-44ca-b3cf-d4899c92d85a"
      },
      "execution_count": null,
      "outputs": [
        {
          "output_type": "stream",
          "name": "stdout",
          "text": [
            "about pick coal keep job till bulb\n",
            "blub llit boj peek laoc kcip tuoba \n"
          ]
        }
      ]
    },
    {
      "cell_type": "code",
      "source": [
        "#Array checksum\n",
        "\n",
        "nums=input().split()\n",
        "A=[int(i) for i in nums]\n",
        "i=0\n",
        "result=0\n",
        "\n",
        "while i < len(A):\n",
        "  result=((result+A[i])*113)%10000007\n",
        "  i+=1\n",
        "\n",
        "print(result)"
      ],
      "metadata": {
        "colab": {
          "base_uri": "https://localhost:8080/"
        },
        "id": "I9cwmMNoLmXf",
        "outputId": "e0dd1d5f-593b-4a4b-c441-5f73968407bf"
      },
      "execution_count": null,
      "outputs": [
        {
          "output_type": "stream",
          "name": "stdout",
          "text": [
            "6983740 6 527464022 96 7 5 4430 271 2919321 17558382 3246273 865393657 3328 5509224 529 4 4100900 488 12398166 8 111570278 52332 7202148 339867 293096 8 72358151 6 821980165\n",
            "5916099\n"
          ]
        }
      ]
    },
    {
      "cell_type": "code",
      "source": [
        "#Array counters (el más difícil de hacer hasta ahora)\n",
        "\n",
        "n=int(input('Digite el número N: '))\n",
        "\n",
        "nums=input().split()\n",
        "A=[int(i) for i in nums]\n",
        "i=1\n",
        "\n",
        "C=[]\n",
        "\n",
        "while i <= n:\n",
        "  count=0\n",
        "  j=0\n",
        "  while j < len(A):\n",
        "    if A[j] == i:\n",
        "      count+=1\n",
        "    j+=1\n",
        "  C.append(count)\n",
        "  i+=1\n",
        "\n",
        "print(*C,sep=' ')\n",
        "\n",
        "#Este no pude hacerlo con las especificaciones que pedían (recorrer la lista una sola vez) :("
      ],
      "metadata": {
        "colab": {
          "base_uri": "https://localhost:8080/"
        },
        "id": "IuUMkIYcO0Bb",
        "outputId": "79e9573b-9ae0-4acb-8fea-701f5af6db9d"
      },
      "execution_count": null,
      "outputs": [
        {
          "output_type": "stream",
          "name": "stdout",
          "text": [
            "Digite el número N: 11\n",
            "2 11 10 2 9 5 4 5 3 7 1 2 1 9 8 10 3 10 6 10 8 2 1 9 4 4 8 8 6 10 2 10 4 7 11 7 9 7 8 10 8 5 4 7 11 8 7 4 9 1 8 7 10 3 6 10 8 11 10 9 2 10 10 5 8 9 6 10 10 2 5 10 7 3 9 10 1 11 6 4 11 5 5 7 2 2 8 5 6 3 8 10 10 1 9 8 4 7 3 8 6 5 6 8 5 5 1 10 8 1 1 10 4 3 5 7 5 11 7 3 10 7 6 3 2 9 8 2 7 6 10 2 7 8 9 6 1 4 10 7 3 10 7 6 9 11 4 5 1 4 5 9 8 11 7 6 4 3 2 4 9 6 9 11 4 7 11 8 8 8 9 11 8 8 4 9 9 7 9 1 3 8 1 6 9 6 2 6 8 2 4 8 4 9 7 6 5 7 9 9 11 11 1 11 6 2 7 11 1 1 2 7 6 2 10 10 10 4 5 10 3 11 5 6 11 2 3 11 2 5 7 10 7 8 9 1 11 5 10 1 7 11 4 6 6 4 6 10 9 10 8 10 3 11 11 5 10 11 5 1 3 10 8 3 3 8 6 7 2 11 7 5 5 7 11 3 5 7 5 11 10 3 10 5 11 8 4 5 4 7 5 10 1 4 10 11 10 1 2 2 7 9 3 7 2 2 3 6 4 3 4 4 8 2 8 2 6 3 3 11 3 11 9 7 7 1 6 10 2 1 6 11 5 8 9 6 7 11 11 9 9 4 5 7 2 11 7 1 6 10 10 11 11 9 2 3 8 8 2 6 4 7 8 5 8 7 11 7 6 8 1 7 9 7 4 3 3 6 7 5 4 3 11\n",
            "25 31 30 31 33 34 45 40 32 43 39\n"
          ]
        }
      ]
    },
    {
      "cell_type": "code",
      "source": [
        "#Linear function\n",
        "\n",
        "puntos=input().split()\n",
        "P=[int(i) for i in puntos]\n",
        "C=[]\n",
        "i=0\n",
        "\n",
        "while i < len(P):\n",
        "  m=(P[i+3]-P[i+1])/(P[i+2]-P[i])\n",
        "  b=P[i+1]-(m*P[i])\n",
        "  C.append((int(m), int(b)))\n",
        "  i+=4\n",
        "\n",
        "print(*C, sep=' ')"
      ],
      "metadata": {
        "colab": {
          "base_uri": "https://localhost:8080/"
        },
        "id": "GOLEg9vAT_4R",
        "outputId": "6a4195ed-ed6e-42a6-c49e-2029e2a01293"
      },
      "execution_count": null,
      "outputs": [
        {
          "output_type": "stream",
          "name": "stdout",
          "text": [
            "-923 32150 -205 7738 -752 23558 -144 4102 -266 -14537 -298 -16329 -25 -1199 44 664 225 2446 -641 -7080 -928 68043 792 -59237 625 1890 -615 -1830 74 1707 492 7977 -185 -14484 -531 -42164 598 -55839 -385 37546 -61 -3816 246 15525 428 41588 -559 -55138\n",
            "(-34, 768) (-32, -506) (56, 359) (27, -524) (11, -29) (-74, -629) (3, 15) (15, 597) (80, 316) (-95, 971) (63, 27) (98, -356)\n"
          ]
        }
      ]
    },
    {
      "cell_type": "code",
      "source": [
        "#Modulo and time difference\n",
        "\n",
        "timestamps=input().split()\n",
        "A=[int(i) for i in timestamps]\n",
        "D=[]\n",
        "i=0\n",
        "\n",
        "while i < len(A):\n",
        "  t1=(A[i]*24*60*60)+(A[i+1]*60*60)+(A[i+2]*60)+A[i+3]\n",
        "  t2=(A[i+4]*24*60*60)+(A[i+5]*60*60)+(A[i+6]*60)+A[i+7] #Formato a segundos.\n",
        "\n",
        "  dif=t2-t1\n",
        "\n",
        "  sec=dif % 60\n",
        "  dif=int(dif/60) #Segundos a minutos.\n",
        "\n",
        "  min=dif % 60\n",
        "  dif=int(dif/60) #Minutos a horas.\n",
        "\n",
        "  hour=dif % 24\n",
        "  dif=int(dif/24) #Horas a días.\n",
        "\n",
        "  day=dif\n",
        "\n",
        "  D.append((day, hour, min, sec))\n",
        "  i+=8\n",
        "\n",
        "print(*D,sep=' ')"
      ],
      "metadata": {
        "colab": {
          "base_uri": "https://localhost:8080/"
        },
        "id": "OsGDd7GKYZRG",
        "outputId": "0122dd43-a773-4e45-bbf9-6e5544eaa684"
      },
      "execution_count": null,
      "outputs": [
        {
          "output_type": "stream",
          "name": "stdout",
          "text": [
            "5 22 7 23 11 5 11 52 15 18 56 3 28 8 53 19 0 23 1 59 2 1 35 36 10 2 8 57 26 15 34 28 10 19 6 45 25 22 18 17 5 8 0 10 22 2 0 31 0 0 36 8 25 10 4 4 9 17 10 49 27 9 3 27 6 8 42 36 14 15 54 27 20 1 37 55 26 8 10 7 15 5 45 40 20 12 37 56 26 21 38 50 29 7 53 51 3 19 57 18 18 7 0 52\n",
            "(5, 7, 4, 29) (12, 13, 57, 16) (1, 2, 33, 37) (16, 13, 25, 31) (15, 3, 11, 32) (16, 18, 0, 21) (25, 9, 27, 56) (17, 15, 52, 38) (8, 7, 11, 51) (6, 6, 32, 12) (5, 6, 52, 16) (2, 10, 15, 1) (14, 11, 3, 34)\n"
          ]
        }
      ]
    },
    {
      "cell_type": "code",
      "source": [
        "#Collatz conjecture\n",
        "\n",
        "nums=input().split()\n",
        "S=[int(i) for i in nums]\n",
        "P=[]\n",
        "i=0\n",
        "\n",
        "while i < len(S):\n",
        "  x=S[i]\n",
        "  pasos=0\n",
        "\n",
        "  while x != 1:\n",
        "    if (x % 2) == 0:\n",
        "      x=x/2\n",
        "      pasos+=1\n",
        "    else:\n",
        "      x=(3*x)+1\n",
        "      pasos+=1\n",
        "\n",
        "  P.append(pasos)\n",
        "  i+=1\n",
        "\n",
        "print(*P, sep=' ')"
      ],
      "metadata": {
        "colab": {
          "base_uri": "https://localhost:8080/"
        },
        "id": "NU-ICApweYzn",
        "outputId": "9a935db0-5522-4b5f-ca9d-f95aabf44ad4"
      },
      "execution_count": null,
      "outputs": [
        {
          "output_type": "stream",
          "name": "stdout",
          "text": [
            "40778 15121 39 39925 35 456 12 198 4377 365 42992 448 34 32 18 45652 2682 235 33 1302 4138 427\n",
            "181 84 34 75 13 35 9 26 77 94 101 22 13 5 20 31 71 127 26 101 126 53\n"
          ]
        }
      ]
    },
    {
      "cell_type": "code",
      "source": [
        "#Modular calculator\n",
        "\n",
        "steps=input().split()\n",
        "i=1\n",
        "x=int(steps[0])\n",
        "\n",
        "while steps[i] != '%':\n",
        "  if steps[i] == '+':\n",
        "    x=x+int(steps[i+1])\n",
        "  else:\n",
        "    x=x*int(steps[i+1])\n",
        "  i+=2\n",
        "\n",
        "x=x % int(steps[i+1])\n",
        "\n",
        "print(x)"
      ],
      "metadata": {
        "colab": {
          "base_uri": "https://localhost:8080/"
        },
        "id": "j5ohYx5tismG",
        "outputId": "5ea1808a-f927-4831-e104-ca3d9729e648"
      },
      "execution_count": null,
      "outputs": [
        {
          "output_type": "stream",
          "name": "stdout",
          "text": [
            "4615 * 100 + 6 * 21 + 34 * 2 * 61 + 543 + 73 + 9 * 8 * 10 + 311 * 142 * 409 * 9 * 95 + 8 + 60 * 749 + 249 + 26 * 2 * 375 * 4 + 119 * 824 * 55 + 316 + 11 + 725 * 5 * 4 + 8 + 2501 * 214 * 20 * 4 + 2788 * 7372 + 4 * 9 + 806 + 8565 + 3 * 402 * 558 * 52 + 7 + 2386 * 5 + 7330 * 77 % 4306\n",
            "55\n"
          ]
        }
      ]
    },
    {
      "cell_type": "code",
      "source": [
        "#Bubble sort\n",
        "\n",
        "nums=input('Digite la lista de números a ordenar: ').split()\n",
        "A=[int(i) for i in nums]\n",
        "\n",
        "recorrido=1 #Cuenta desde 1 porque el número de recorridos que se pide cuenta el recorrido final, en el que no se cambia ningún número. El código no tiene en cuenta este recorrido.\n",
        "swap=0 #Cuenta cuántas veces se cambian las posiciones de dos números.\n",
        "j=0 #Esta variable controla que la única forma de salir del ciclo while sea cuando todo número en la lista A cumpla la condición A[i] <= A[i+1].\n",
        "\n",
        "while j < (len(A)-1): #Se usa (len(A)-1) porque se tiene A[i+1] en una condición.\n",
        "  i=0 #Itera sobre los elementos de la lista A.\n",
        "  j=0 #Reinicia la varible para que no se acumule y no sobrepase (len(A)-1).\n",
        "\n",
        "  while i < (len(A)-1):\n",
        "    if A[i] <= A[i+1]: #Si se cumple la condición, se pasa a la siguiente pareja de números.\n",
        "      i+=1\n",
        "    else: #Si no se cumple la condición, se intercambian las posiciones de los dos números (A[i] y A[i+1]).\n",
        "      t=A[i] #Variable que almacena el valor a intercambiar mientras se realiza el intercambio.\n",
        "      A[i]=A[i+1]\n",
        "      A[i+1]=t\n",
        "\n",
        "      swap+=1\n",
        "      i+=1\n",
        "\n",
        "  recorrido+=1\n",
        "\n",
        "  while j < (len(A)-1) and A[j] <= A[j+1]: #Este ciclo cuenta cuántos números de la lista cumplen la condición A[i] <= A[i+1].\n",
        "    j+=1\n",
        "\n",
        "print() #Esto solo es un salto de línea.\n",
        "print('Lista ordenada: ', *A, sep=' ')\n",
        "print('Se recorrió la lista', recorrido, 'veces. Se intercambiaron', swap, 'parejas de núnmeros.')"
      ],
      "metadata": {
        "colab": {
          "base_uri": "https://localhost:8080/"
        },
        "id": "tYnZry8Yn2r3",
        "outputId": "dc7d9a1c-e0e5-47e0-9e60-fd85a9267a2b"
      },
      "execution_count": null,
      "outputs": [
        {
          "output_type": "stream",
          "name": "stdout",
          "text": [
            "Digite la lista de números a ordenar: 324 711 484 536 984 113 669 872 830 59 1034 770 1188 1083 211 425 384 155 926 1128 628 578 268\n",
            "\n",
            "Lista ordenada:  59 113 155 211 268 324 384 425 484 536 578 628 669 711 770 830 872 926 984 1034 1083 1128 1188\n",
            "Se recorrió la lista 19 veces. Se intercambiaron 122 parejas de núnmeros.\n"
          ]
        }
      ]
    },
    {
      "cell_type": "code",
      "source": [
        "#Greatest common divisor\n",
        "\n",
        "numeros=[int(i) for i in input('Inserte la lista de números: ').split()]\n",
        "divisores=[]\n",
        "i=0\n",
        "\n",
        "while i < len(numeros):\n",
        "  numero_a=numeros[i]\n",
        "  numero_b=numeros[i+1]\n",
        "\n",
        "  while numero_a!=numero_b:\n",
        "    if numero_a < numero_b:\n",
        "      numero_b-=numero_a\n",
        "    if numero_b < numero_a:\n",
        "      numero_a-=numero_b\n",
        "\n",
        "  max_comun_div=numero_a\n",
        "  min_comun_mul=int((numeros[i]*numeros[i+1])/max_comun_div)\n",
        "\n",
        "  divisores.append((max_comun_div, min_comun_mul))\n",
        "  i+=2\n",
        "\n",
        "print(*divisores, sep=' ')"
      ],
      "metadata": {
        "colab": {
          "base_uri": "https://localhost:8080/"
        },
        "id": "mFJBlxwt8_el",
        "outputId": "8a228df3-8cae-40db-b787-572d307f55ce"
      },
      "execution_count": null,
      "outputs": [
        {
          "output_type": "stream",
          "name": "stdout",
          "text": [
            "Inserte la lista de números: 1012 627 5828 8 262 4 695 85 4005 900 8563 618 3 100 2484 6831 51 2419 31 621 2310 1134 806 740 316 561 10 56 26 58 498 3 5921 2 3382 2492 3276 8827 57 5611 5 1 2 653 2652 5928 5 73\n",
            "(11, 57684) (4, 11656) (2, 524) (5, 11815) (45, 80100) (1, 5291934) (1, 300) (621, 27324) (1, 123369) (1, 19251) (42, 62370) (2, 298220) (1, 177276) (2, 280) (2, 754) (3, 498) (1, 11842) (178, 47348) (91, 317772) (1, 319827) (1, 5) (1, 1306) (156, 100776) (1, 365)\n"
          ]
        }
      ]
    },
    {
      "cell_type": "code",
      "source": [
        "#Square root\n",
        "\n",
        "nums=[int(i) for i in input('Inserte la lista de números: ').split()]\n",
        "roots=[]\n",
        "i=0\n",
        "\n",
        "while i < len(nums):\n",
        "  r=1 #Almacena temporalmente la raíz.\n",
        "  j=0 #Contador de cuántas veces se repitió el proceso de refinamiento de la raíz.\n",
        "\n",
        "  while j < nums[i+1]:\n",
        "    r=(r+(nums[i]/r))/2 #Método de Herón para raíces cuadradas.\n",
        "    j+=1\n",
        "\n",
        "  roots.append(r)\n",
        "  i+=2\n",
        "\n",
        "print(*roots, sep=' ')"
      ],
      "metadata": {
        "colab": {
          "base_uri": "https://localhost:8080/"
        },
        "id": "yKG7oU7eBgxO",
        "outputId": "7da985e2-27f1-4691-874e-4da5c08b3619"
      },
      "execution_count": null,
      "outputs": [
        {
          "output_type": "stream",
          "name": "stdout",
          "text": [
            "Inserte la lista de números: 96 3 354 5 76 10 433 9 960 5 6993 3 43 12 28401 8 38224 7 778 12 95721 9 16462 6 5761 1\n",
            "14.521611928781446 20.10767967251783 8.717797887081346 20.808652046684813 39.97039593322721 876.7484996937784 6.557438524302 185.49183746971056 340.1179131197553 27.892651361962706 332.8454035525382 278.2015974022499 2881.0\n"
          ]
        }
      ]
    },
    {
      "cell_type": "code",
      "source": [
        "#Sort with indexes\n",
        "\n",
        "def sort(A):\n",
        "  j=0\n",
        "\n",
        "  while j < (len(A)-1): #Se usa (len(A)-1) porque se tiene A[i+1] en una condición.\n",
        "    i=0 #Itera sobre los elementos de la lista A.\n",
        "    j=0 #Reinicia la varible para que no se acumule y no sobrepase (len(A)-1).\n",
        "\n",
        "    while i < (len(A)-1):\n",
        "      if A[i] <= A[i+1]: #Si se cumple la condición, se pasa a la siguiente pareja de números.\n",
        "        i+=1\n",
        "      else: #Si no se cumple la condición, se intercambian las posiciones de los dos números (A[i] y A[i+1]).\n",
        "        t=A[i] #Variable que almacena el valor a intercambiar mientras se realiza el intercambio.\n",
        "        A[i]=A[i+1]\n",
        "        A[i+1]=t\n",
        "        i+=1\n",
        "\n",
        "    while j < (len(A)-1) and A[j] <= A[j+1]: #Este ciclo cuenta cuántos números de la lista cumplen la condición A[i] <= A[i+1].\n",
        "      j+=1\n",
        "\n",
        "  return A\n",
        "\n",
        "nums=[int(i) for i in input('Inserte la lista de números: ').split()]\n",
        "copy_of_nums=list(nums)\n",
        "\n",
        "sort(nums)\n",
        "\n",
        "print(*[copy_of_nums.index(i)+1 for i in nums]) #Muestra el índice original de los elementos del conjunto ordenado. El índice cuenta a partir de 1."
      ],
      "metadata": {
        "colab": {
          "base_uri": "https://localhost:8080/"
        },
        "id": "ADSuCm0fETws",
        "outputId": "4314078e-81ca-4f5e-d58d-6e1aba1c2d57"
      },
      "execution_count": null,
      "outputs": [
        {
          "output_type": "stream",
          "name": "stdout",
          "text": [
            "Inserte la lista de números: 324 711 484 536 984 113 669 872 830 59 1034 770 1188 1083 211 425 384 155 926 1128 628 578 268\n",
            "10 6 18 15 23 1 17 16 3 4 22 21 7 2 12 9 8 19 5 11 14 20 13\n"
          ]
        }
      ]
    },
    {
      "cell_type": "code",
      "source": [
        "#Bubble in array\n",
        "\n",
        "nums=[int(i) for i in input('Inserte la lista de números: ').split()]\n",
        "swap=0 #Cuántas veces se intercambiaron las posiciones de dos números en la lista.\n",
        "i=0 #Variable contadora.\n",
        "\n",
        "while i < (len(nums)-1): #Solo hay un while: la lista solo se recorre una vez.\n",
        "  if nums[i] > nums[i+1]:\n",
        "    t=nums[i]\n",
        "    nums[i]=nums[i+1]\n",
        "    nums[i+1]=t\n",
        "\n",
        "    swap+=1\n",
        "    i+=1\n",
        "  else:\n",
        "    i+=1\n",
        "\n",
        "def array_checksum(A):\n",
        "  i=0\n",
        "  result=0\n",
        "\n",
        "  while i < len(A):\n",
        "    result=((result+A[i])*113)%10000007\n",
        "    i+=1\n",
        "\n",
        "  return result\n",
        "\n",
        "print(swap, array_checksum(nums), sep=' ')"
      ],
      "metadata": {
        "colab": {
          "base_uri": "https://localhost:8080/"
        },
        "id": "qsnT4HUVM0Pn",
        "outputId": "3c3dba94-2c19-40ad-b484-2c978301f689"
      },
      "execution_count": null,
      "outputs": [
        {
          "output_type": "stream",
          "name": "stdout",
          "text": [
            "Inserte la lista de números: 379 526 3567 813 7801 82941 79 28 79 69 3 53732 1 4 5 95465 78 927 83 76551 4123 86284 3 448 11657 257 394 54915 76936 74 77351 14 7 2391 868\n",
            "29 5894583\n"
          ]
        }
      ]
    },
    {
      "cell_type": "code",
      "source": [
        "#Rotate string\n",
        "\n",
        "data=[i for i in input().split()]\n",
        "ans=[]\n",
        "i=0\n",
        "\n",
        "while i < len(data):\n",
        "  cadena=data[i+1]\n",
        "  k=int(data[i])\n",
        "  j=0\n",
        "  \n",
        "  if k > 0:\n",
        "    sub_cadena_1=cadena[0:k]\n",
        "    sub_cadena_2=cadena[k:len(cadena)]\n",
        "\n",
        "    cadena=[]\n",
        "    cadena=sub_cadena_2 + sub_cadena_1\n",
        "  else:\n",
        "    sub_cadena_1=cadena[len(cadena)+k:len(cadena)]\n",
        "    sub_cadena_2=cadena[0:len(cadena)+k]\n",
        "\n",
        "    cadena=[]\n",
        "    cadena=sub_cadena_1 + sub_cadena_2\n",
        "\n",
        "  ans.append(cadena)\n",
        "  i+=2\n",
        "\n",
        "print(*ans, sep=' ')"
      ],
      "metadata": {
        "colab": {
          "base_uri": "https://localhost:8080/"
        },
        "id": "IN53pfyqTEGm",
        "outputId": "72aa2e72-542a-4f09-ddf1-dc1215ce6c52"
      },
      "execution_count": null,
      "outputs": [
        {
          "output_type": "stream",
          "name": "stdout",
          "text": [
            "5 mirnfxaieayouiogzjsupxtif -7 fysyyoarjykueigcduvh 7 qumefooaebyinyxeob 7 uuybxmhozbeoueheum -2 elddazucqphwuxndtaryqdaav -1 dceearhugqwtwumudhbiox -5 bfkwyuebtoeesueb 5 jbnfxoyqrgdoiimvsrffk -5 nnlpkzyldobeqetoal -4 facjxizkitvohjykkmyu -3 eybupoxsyyvatenbjnie\n",
            "xaieayouiogzjsupxtifmirnf igcduvhfysyyoarjykue aebyinyxeobqumefoo ozbeoueheumuuybxmh avelddazucqphwuxndtaryqda xdceearhugqwtwumudhbio esuebbfkwyuebtoe oyqrgdoiimvsrffkjbnfx etoalnnlpkzyldobeq kmyufacjxizkitvohjyk nieeybupoxsyyvatenbj\n"
          ]
        }
      ]
    },
    {
      "cell_type": "code",
      "source": [
        "#Palindromes\n",
        "\n",
        "abecedario=['a','b','c','d','e','f','g','h','i','j','k','l','m','n','o','p','q','r','s','t','u','v','w','x','y','z']\n",
        "ans=[]\n",
        "\n",
        "def reverse_string(A):\n",
        "  B=[]\n",
        "  i=len(A)-1\n",
        "\n",
        "  while i >= 0:\n",
        "    B.append(A[i])\n",
        "    i-=1\n",
        "\n",
        "  return B\n",
        "\n",
        "n=int(input('Digite el número de frases a examinar: '))\n",
        "i=0\n",
        "\n",
        "while i < n:\n",
        "  frase=[j for j in input().lower() if j in abecedario]\n",
        "  reversa=reverse_string(frase)\n",
        "\n",
        "  if frase == reversa:\n",
        "    ans.append('Y')\n",
        "  else:\n",
        "    ans.append('N')\n",
        "  i+=1\n",
        "\n",
        "print(*ans, sep=' ')"
      ],
      "metadata": {
        "colab": {
          "base_uri": "https://localhost:8080/"
        },
        "id": "oRS0HYTag_UG",
        "outputId": "50b348d9-2fd4-4a97-c826-48f2b82b19f4"
      },
      "execution_count": null,
      "outputs": [
        {
          "output_type": "stream",
          "name": "stdout",
          "text": [
            "Digite el número de frases a examinar: 20\n",
            "Ocjdiljjgpu, aoi mjhhucrbeckkcelrcuhhjmioau, P G Jjlidj Co\n",
            "A, caln-A f xookryyyphioiio Ihpyyr-kooxfa nlac a\n",
            "Iacujxsa-zvyec, oh Pmimphoceyvzas, xj, Uca-i\n",
            "D, Gsazuinejlrxok-Koxrljeniuzas, gp\n",
            "Eikpqmr, uaun ffu, a-u-r-Mq pkie\n",
            "Q wefi-Uze-ngyet H Izo,yo Oozihteygn, ezuifewq\n",
            "Uzsa-Updey-iuje hjh juiyedpua, szu\n",
            "egy utjyiiwidywydiwiiyj-Tuygp\n",
            "Gsslfrheyeoypcdi I dcpy-Oe, yehrfussg\n",
            "Js-Zij, Y-E-flplpzjephy-Pyvyy, Vyp yhpejzplplfeyj, izsj\n",
            "Vx-afg, uxepo-yeaxmdrykcnhby Y Bh Nckyrdmxaeyopexugfa Xv\n",
            "Av-Ma Efse Yo-Asaoyes Feamda\n",
            "Czfhfexqauy-Gaogkuuc-O, O, Cuukgoagyuaq xefhfzc\n",
            "Ecis, ylief E-Ilys ice\n",
            "Eoaopru u Xrvndhijn, Nnjihdn-Vr, xuurpo-aoe\n",
            "Zeykpuqdidqs, iaoui, Xxi uoawsqdi-Dqupkyez\n",
            "F, Ygguju-ic, Wyxvuebubub Euvxyw-Ciuj-Uggyf\n",
            "W-oseen, Dn, e-pso, W\n",
            "Iezdmoeeagy xqu-Xyga-eeo-mdzei\n",
            "Oaiqcnypdhnfbz-hapseae, S, Pahzb fn, h dpyncqiao\n",
            "N N Y N N N N N N Y Y N Y Y Y N Y N N Y\n"
          ]
        }
      ]
    },
    {
      "cell_type": "code",
      "source": [
        "#Pythagorean theorem\n",
        "\n",
        "triangles=[int(i) for i in input().split()]\n",
        "clas=[]\n",
        "i=0\n",
        "\n",
        "while i < len(triangles):\n",
        "  hypotenuse=((triangles[i]**2)+(triangles[i+1]**2))**0.5\n",
        "\n",
        "  if hypotenuse == triangles[i+2]:\n",
        "    clas.append('R')\n",
        "\n",
        "  if hypotenuse < triangles[i+2]:\n",
        "    clas.append('O')\n",
        "\n",
        "  if hypotenuse > triangles[i+2]:\n",
        "    clas.append('A')\n",
        "  i+=3\n",
        "\n",
        "print(*clas, sep=' ')"
      ],
      "metadata": {
        "colab": {
          "base_uri": "https://localhost:8080/"
        },
        "id": "xHd3WytNav3H",
        "outputId": "d56313aa-962d-47a7-cfad-50c7b05b12a1"
      },
      "execution_count": null,
      "outputs": [
        {
          "output_type": "stream",
          "name": "stdout",
          "text": [
            "175 420 455 564 235 574 294 392 467 384 720 816 490 1176 1274 752 1410 1598 308 1056 1068 1872 546 1892 435 232 498 1455 776 1671 640 1200 1463 40 75 85 1050 560 1190 372 279 465 208 156 260 435 232 494 129 172 211 357 1224 1306 984 287 1013 1368 399 1425 248 186 281 48 20 52 1320 704 1496 48 90 101 255 612 649 105 56 119\n",
            "R A A R R R A A O O O R R R R O A O A R A R R A A R\n"
          ]
        }
      ]
    },
    {
      "cell_type": "code",
      "source": [
        "#Neumann's random generator (el peor ejercicio hasta ahora)\n",
        "\n",
        "nums=[int(i) for i in input().split()]\n",
        "I=[]\n",
        "i=0\n",
        "\n",
        "while i < len(nums):\n",
        "  iteraciones=0\n",
        "  x=nums[i]\n",
        "  loop=[2100,4100,6100,8100]\n",
        "  a=0\n",
        "\n",
        "  while (x in loop) == False:\n",
        "    a=nums[i]\n",
        "    x=x**2\n",
        "    x=str(x)\n",
        "    while len(x) < 8:\n",
        "      x='0'+x\n",
        "    x=x[2:6]\n",
        "    x=int(x)\n",
        "    iteraciones+=1\n",
        "\n",
        "  I.append(iteraciones+4) #+4 por los 4 elementos que conforman el loop (no se tienen en cuenta).\n",
        "  i+=1\n",
        "\n",
        "print(*I, sep=' ')"
      ],
      "metadata": {
        "colab": {
          "base_uri": "https://localhost:8080/"
        },
        "id": "EOWHHW6xeZJ_",
        "outputId": "f958bd41-c78d-4360-cdaa-49942c453416"
      },
      "execution_count": null,
      "outputs": [
        {
          "output_type": "stream",
          "name": "stdout",
          "text": [
            "2312 7589 6186 6239 2968 6068 4481 6029 9251 5845 167\n",
            "102 105 102 111 99 107 97 108 110 97 109\n"
          ]
        }
      ]
    },
    {
      "cell_type": "code",
      "source": [
        "#Smoothing the weather\n",
        "\n",
        "measurements=[float(i) for i in input().split()]\n",
        "processed_sequence=[measurements[0]]\n",
        "i=1\n",
        "\n",
        "while i < (len(measurements)-1):\n",
        "  processed_measurement=(measurements[i-1]+measurements[i]+measurements[i+1])/3\n",
        "  processed_sequence.append(processed_measurement)\n",
        "  i+=1\n",
        "\n",
        "processed_sequence.append(measurements[len(measurements)-1])\n",
        "\n",
        "print(*processed_sequence, sep=' ')"
      ],
      "metadata": {
        "colab": {
          "base_uri": "https://localhost:8080/"
        },
        "id": "i2tapvPutp_d",
        "outputId": "4933344e-6695-44f1-83be-f607cba5b68e"
      },
      "execution_count": null,
      "outputs": [
        {
          "output_type": "stream",
          "name": "stdout",
          "text": [
            "37.4 33.5 42.2 38.1 49.4 58.2 50.0 41.3 59.0 45.1 35.3 35.2 30.0 36.9 20.1 23.0 21.0 10.0 10.2 5.8 26.4 15.9 20.0 15.9 30.1 50.2 34.2 44.2 56.5 35.6 46.1 49.3 47.3 33.6 34.4 35.5 30.0 26.7 17.1 15.9 24.4 7.9 10.1 10.1 12.7 8.7 20.2 29.1 30.0 20.2 40.0 49.3 46.9 56.4 48.6 49.3 47.3 32.8 39.2 36.9 29.2 24.7 22.6 11.7 11.9 10.7 10.0 10.7 2.8 10.0 20.4 16.9 31.8 35.9 49.5 44.2 47.0 49.1 47.4 38.4 49.0 45.0 49.5 35.4 30.4 24.9 20.0 3.4 12.6 10.1 10.0 10.5 9.4 19.4 14.9 24.7 29.6 35.1 41.0 42.7 48.9 61.0 50.0 49.2 42.4 43.7 39.7 35.0 30.0 23.3 20.2 15.4 18.0 10.7 13.4 9.9 12.7 10.0 20.6 24.9 38.6 21.1 35.3 45.3 47.5 52.0 42.3 50.1 47.2 44.3 36.4 33.9 28.0 27.3 15.7 16.1 13.7 10.5 12.8 11.5 7.3 15.8 20.4 24.8 30.2 35.2 51.7 44.0 60.2 49.5 50.1 47.4 60.2 47.7 43.6 28.1 28.3 23.9 23.9 15.9 0.2 10.7 20.6 18.4 12.7 15.8 22.1 24.9 30.0 34.5 33.4 48.9 47.8 49.4 60.6 44.2 48.1 39.4 27.5 34.5 23.7 24.8 31.3 16.3 13.7 6.7 19.2 14.3 14.0 16.6 8.3 26.5\n",
            "37.4 37.7 37.93333333333334 43.23333333333334 48.56666666666666 52.53333333333333 49.833333333333336 50.1 48.46666666666667 46.46666666666666 38.53333333333334 33.5 34.03333333333333 29.0 26.666666666666668 21.366666666666664 18.0 13.733333333333334 8.666666666666666 14.133333333333333 16.03333333333333 20.766666666666666 17.266666666666666 22.0 32.06666666666667 38.16666666666667 42.866666666666674 44.96666666666667 45.43333333333334 46.06666666666666 43.666666666666664 47.56666666666666 43.4 38.43333333333334 34.5 33.300000000000004 30.733333333333334 24.600000000000005 19.9 19.133333333333333 16.066666666666666 14.133333333333333 9.366666666666667 10.966666666666667 10.499999999999998 13.866666666666665 19.333333333333332 26.433333333333334 26.433333333333334 30.066666666666666 36.5 45.4 50.86666666666667 50.63333333333333 51.43333333333334 48.4 43.133333333333326 39.766666666666666 36.300000000000004 35.1 30.266666666666666 25.5 19.666666666666668 15.399999999999999 11.433333333333332 10.866666666666667 10.466666666666667 7.833333333333333 7.833333333333333 11.066666666666668 15.766666666666666 23.03333333333333 28.2 39.06666666666667 43.20000000000001 46.9 46.76666666666667 47.833333333333336 44.96666666666667 44.93333333333334 44.13333333333333 47.833333333333336 43.300000000000004 38.43333333333334 30.23333333333333 25.099999999999998 16.099999999999998 12.0 8.700000000000001 10.9 10.200000000000001 9.966666666666667 13.1 14.566666666666665 19.666666666666668 23.066666666666666 29.8 35.233333333333334 39.6 44.199999999999996 50.86666666666667 53.300000000000004 53.4 47.199999999999996 45.1 41.93333333333333 39.46666666666667 34.9 29.433333333333334 24.5 19.633333333333333 17.866666666666667 14.699999999999998 14.033333333333333 11.333333333333334 12.0 10.866666666666667 14.433333333333332 18.5 28.03333333333333 28.2 31.666666666666668 33.9 42.699999999999996 48.26666666666667 47.26666666666667 48.13333333333333 46.53333333333334 47.20000000000001 42.63333333333333 38.199999999999996 32.766666666666666 29.733333333333334 23.666666666666668 19.7 15.166666666666666 13.433333333333332 12.333333333333334 11.6 10.533333333333333 11.533333333333333 14.5 20.333333333333332 25.133333333333336 30.066666666666666 39.03333333333334 43.63333333333333 51.96666666666667 51.23333333333333 53.26666666666667 49.0 52.56666666666666 51.76666666666667 50.5 39.800000000000004 33.333333333333336 26.76666666666667 25.366666666666664 21.23333333333333 13.333333333333334 8.933333333333334 10.5 16.566666666666666 17.233333333333334 15.633333333333333 16.866666666666667 20.933333333333334 25.666666666666668 29.8 32.63333333333333 38.93333333333334 43.36666666666667 48.699999999999996 52.599999999999994 51.4 50.96666666666667 43.900000000000006 38.333333333333336 33.800000000000004 28.566666666666666 27.666666666666668 26.599999999999998 24.133333333333336 20.433333333333334 12.233333333333334 13.199999999999998 13.4 15.833333333333334 14.966666666666669 12.966666666666669 17.133333333333336 26.5\n"
          ]
        }
      ]
    },
    {
      "cell_type": "code",
      "source": [
        "#Fibonacci sequence\n",
        "\n",
        "def primeros_n_fibonacci(n):\n",
        "  primero,segundo,tercero=0,1,0\n",
        "  i=0\n",
        "  F=[primero, segundo]\n",
        "\n",
        "  if n == 0:\n",
        "    F=[]\n",
        "\n",
        "  if n == 1:\n",
        "    F=[primero]\n",
        "\n",
        "  if n == 2:\n",
        "    F=[primero, segundo]\n",
        "\n",
        "  if n > 2:\n",
        "    while i < (n-2): #n-2 porque los dos primeros se incluyen por defecto en la lista.\n",
        "      tercero=primero+segundo\n",
        "      primero=segundo\n",
        "      segundo=tercero\n",
        "      F.append(tercero)\n",
        "      i+=1\n",
        "\n",
        "  return F\n",
        "\n",
        "sequence=primeros_n_fibonacci(1000)\n",
        "\n",
        "nums=[int(i) for i in input().split()]\n",
        "I=[]\n",
        "i=0\n",
        "\n",
        "while i < len(nums):\n",
        "  index=sequence.index(nums[i])\n",
        "  I.append(index)\n",
        "  i+=1\n",
        "\n",
        "print(*I, sep=' ')"
      ],
      "metadata": {
        "colab": {
          "base_uri": "https://localhost:8080/"
        },
        "id": "d6e3pLSM7gEN",
        "outputId": "5b25e128-762e-483c-8626-776e7d7890a4"
      },
      "execution_count": null,
      "outputs": [
        {
          "output_type": "stream",
          "name": "stdout",
          "text": [
            "3206362566281301118819796980708220468785727873685059432185530027885348499714774352234554266527320615132416813854743457103608413 490466463202844446442404046536715720760753273372111614880764689587 6444963554546233392584652912637562255215768303774709585708657938688967667272339965471902161723737191396813342345444397071667252432747706631690549784237107749 7308805952221443105020355490 47068900554068939361891195233676009091941690850 618507831590667692821237486561501624247987096016405159341685528690027641831713576510376480847184844186265198694299457590099717052512641561 178684461669052552311410692812805706249615844217278044703496837914086683543763273909969771627106004287604844670397177991379601 497880373953008128101310739865699088316199429139329072639731816100301319690449020710377940634148387209607097 148387753977188837819858707782342616776497854780875624611509059103432470714622518694952 88895331094252224395547334812680590285351577786328700992010571109649289972956851261232789975392 756919526153062141627096571973853690634028007366945346870508297492815454042752769581146123725053652711202992296086569778057203 1365046504072321508231222244310422363877266660206444179119732408369866192876900278185575638836207240316520034980758670394197563455932861996357 2013913292136887790908943984011536809116771188394517192671163973003235747281 1303467741340483121659023383282949754951354892487032836821556660754115695648928602663356832403903120316774306 298267474920380535341780212823208522714056118874363473690409655562810004906426007631842944464845952782163935029380541 1244666864935793005828156005589143096022236302705537193166716344690085611761 3865462327928467072415604609040860366007401579690263197296200323999931849 35029596967131343602213497450232647402139968983372205851566400021802909132390757909314 1546227254494775294781736623791582212080267394331882874735521220937349853562024289099752911892652406375505 1150732583658441619074960448378430992861528480716347129290817711494041692989741780046107406408657135607164206366170756194420090405553241842130709 2584\n",
            "607 316 752 135 225 661 601 517 414 456 604 677 362 519 559 361 349 411 505 691 18\n"
          ]
        }
      ]
    },
    {
      "cell_type": "code",
      "source": [
        "#Bicycle race\n",
        "\n",
        "data=[int(i) for i in input().split()]\n",
        "distancia=[]\n",
        "i=0\n",
        "\n",
        "while i < len(data):\n",
        "  a,b,s=data[i+1],data[i+2],data[i]\n",
        "\n",
        "  t=s/(a+b) #t es tiempo.\n",
        "  punto_encuentro=a*t #Pura física, bebé B)\n",
        "  distancia.append(punto_encuentro)\n",
        "  i+=3\n",
        "\n",
        "print(*distancia, sep=' ')"
      ],
      "metadata": {
        "colab": {
          "base_uri": "https://localhost:8080/"
        },
        "id": "dAzP-TLUjaWO",
        "outputId": "31626df7-fd5d-4337-8635-49f69b3fb20f"
      },
      "execution_count": null,
      "outputs": [
        {
          "output_type": "stream",
          "name": "stdout",
          "text": [
            "32 28 27 12 11 21 20 20 24 38 26 14 199 10 11 125 28 15 12 16 15 20 18 28 214 14 29 58 13 19 61 11 27 124 25 26 89 21 23 17 16 11 41 29 18 54 12 22 45 16 28 73 11 11 14 19 30 60 21 30 496 12 24 15 23 18\n",
            "16.29090909090909 4.125 9.09090909090909 24.7 94.76190476190476 81.3953488372093 6.193548387096774 7.826086956521739 69.67441860465117 23.5625 17.657894736842106 60.78431372549019 42.477272727272734 10.074074074074074 25.297872340425535 19.058823529411764 16.363636363636363 36.5 5.428571428571428 24.705882352941178 165.33333333333334 8.414634146341463\n"
          ]
        }
      ]
    },
    {
      "cell_type": "code",
      "source": [
        "#Savings calculator\n",
        "\n",
        "data=[int(i) for i in input().split()]\n",
        "years=[]\n",
        "i=0\n",
        "\n",
        "while i < len(data):\n",
        "  capital=data[i]\n",
        "  suma_requerida=data[i+1]\n",
        "  tasa_interes=data[i+2]/100\n",
        "  años=0\n",
        "\n",
        "  while capital < suma_requerida:\n",
        "    capital=capital+(capital*tasa_interes)\n",
        "    capital=float(\"{:.2f}\".format(capital))\n",
        "    años+=1\n",
        "\n",
        "  years.append(años)\n",
        "  i+=3\n",
        "\n",
        "print(*years, sep=' ')"
      ],
      "metadata": {
        "colab": {
          "base_uri": "https://localhost:8080/"
        },
        "id": "6HRXCd2jnFN9",
        "outputId": "0a8b37da-f26d-478b-e8df-239fbedfa490"
      },
      "execution_count": null,
      "outputs": [
        {
          "output_type": "stream",
          "name": "stdout",
          "text": [
            "100 900 30 2500 62500 3 2500 47500 3 10000 150000 3 2500 35000 15 10000 150000 2 100 2500 1 1000 16000 40 2500 50000 3 10000 50000 15 250 4000 6 100 2500 3 25 250 6 5000 75000 1 25 100 35 100 1500 1 250 5000 3 500 7500 3\n",
            "9 109 100 92 19 137 324 9 102 12 48 109 40 273 5 273 102 92\n"
          ]
        }
      ]
    },
    {
      "cell_type": "code",
      "source": [
        "#Linear congruential generator\n",
        "\n",
        "nums=[int(i) for i in input().split()]\n",
        "nth=[]\n",
        "i=0\n",
        "\n",
        "while i < len(nums):\n",
        "  a=nums[i]\n",
        "  c=nums[i+1]\n",
        "  m=nums[i+2]\n",
        "  x=nums[i+3]\n",
        "  n=nums[i+4]\n",
        "  j=0\n",
        "\n",
        "  while j < n:\n",
        "    x=((a*x)+c) % m\n",
        "    j+=1\n",
        "\n",
        "  nth.append(x)\n",
        "  i+=5\n",
        "\n",
        "print(*nth, sep=' ')"
      ],
      "metadata": {
        "colab": {
          "base_uri": "https://localhost:8080/"
        },
        "id": "dkZRVVZKqE9M",
        "outputId": "c7c6285c-b500-489a-dbff-dfc96f21079d"
      },
      "execution_count": null,
      "outputs": [
        {
          "output_type": "stream",
          "name": "stdout",
          "text": [
            "73 6640 961476 101339 14 1945 72757 58 25 25 75 188 8 6 3 249 9 73588 72785 25 195 1 96237 47166 19 175 303201 26 25 7 111 6 133740 87010 18 967 54698 80 54 22 705 539 42470 18301 24 63 2329 8 1 6 129 48158 609 117 7 197 81 382 20 12 75 10 3869 669 20 1941 312 248 95 8 149 63 9 6 9 835 54 20842 3814 4 83 763 64400 49076 18\n",
            "100423 32 6 27362 73393 24 44898 70 19539 1 83 344 1611 167 3 9508 29056\n"
          ]
        }
      ]
    },
    {
      "cell_type": "code",
      "source": [
        "#Josephus problem (wtf?)\n",
        "\n",
        "people=int(input('Digite el número de personas: '))\n",
        "step=int(input('Digite el paso: '))\n",
        "\n",
        "lst=[i for i in range (1,people+1)]"
      ],
      "metadata": {
        "colab": {
          "base_uri": "https://localhost:8080/"
        },
        "id": "Pl-AiPcSDtYw",
        "outputId": "52776c61-da71-4341-b348-3401b5213835"
      },
      "execution_count": null,
      "outputs": [
        {
          "name": "stdout",
          "output_type": "stream",
          "text": [
            "Digite el número de personas: 50\n",
            "Digite el paso: 9\n"
          ]
        }
      ]
    },
    {
      "cell_type": "code",
      "source": [
        "#Double dice roll\n",
        "\n",
        "datos=[int(i) for i in input().split()]\n",
        "R=[]\n",
        "i=0\n",
        "\n",
        "while i < len(datos):\n",
        "  a=(datos[i] % 6)+1\n",
        "  b=(datos[i+1] % 6)+1\n",
        "\n",
        "  R.append(a+b)\n",
        "\n",
        "  i+=2\n",
        "\n",
        "print(*R, sep=' ')"
      ],
      "metadata": {
        "colab": {
          "base_uri": "https://localhost:8080/"
        },
        "id": "WmrmKVfkH391",
        "outputId": "31221fea-0e5a-4835-e88b-c88c0477b29c"
      },
      "execution_count": null,
      "outputs": [
        {
          "output_type": "stream",
          "name": "stdout",
          "text": [
            "1760917615 1114964559 844999647 235622312 619021516 142124631 937377581 1117379298 1579455353 1886296755 1567575496 1054241598 2000587913 635574023 3899218 915116630 1122045893 1879078005 1783560861 1629714389 1359834727 468437117 653344359 1656335810 2091915662 1381013209 549776525 213044515 2005878557 1659662290 841178806 194063343 1340959131 1088652538 1775939062 1157091365 1391841058 279499058 1412017692 1209810552 1957265125 1208782968 375777922 95403120 359849057 136611378 700580347 1888842386\n",
            "6 7 9 7 10 6 12 8 10 10 8 7 5 8 11 9 9 11 8 2 3 6 7 5\n"
          ]
        }
      ]
    },
    {
      "cell_type": "code",
      "source": [
        "#Matching brackets (Muy difícil)\n",
        "\n",
        "apertura=('(', '[', '{', '<')\n",
        "cierre=(')', ']', '}', '>')\n",
        "R=[]\n",
        "\n",
        "\n",
        "n=int(input('Digite el número de casos a evaluar: '))\n",
        "i=0\n",
        "\n",
        "while i < n:\n",
        "  cadena=[i for i in input() if i in apertura+cierre]\n",
        "  j=0\n",
        "  while len(cadena) > 1 and j < (len(cadena)-1):\n",
        "    if cadena[j] in apertura:\n",
        "      if cadena[j+1] == cierre[apertura.index(cadena[j])]:\n",
        "        cadena.pop(j)\n",
        "        cadena.pop(j)\n",
        "        j=0\n",
        "      else:\n",
        "        j+=1\n",
        "    else:\n",
        "      j+=1\n",
        "\n",
        "  if cadena == []:\n",
        "    R.append(1)\n",
        "  else:\n",
        "    R.append(0)      \n",
        "  i+=1\n",
        "\n",
        "print(*R, sep=' ')\n",
        "\n",
        "'''Lo que hace el código es recorrer la lista en la que se encuentran los paréntesis.\n",
        "Lo que hace primero es borrar las parejas correctas de paréntesis que se encuentren anidadas dentro de otras.\n",
        "Es decir, va contando parejas de adentro hacia afuera.\n",
        "Cada vez que elimina una pareja correcta, el contador se reinicia y vuelve a recorrer todos los elementos de la lista.\n",
        "Si todos los paréntesis se encuentran bien posicionados, el código terminará eliminando todas las parejas y al final se tendrá una lista vacía.\n",
        "En cambio, si tras aplicar este proceso se termina con una lista que aún tiene elementos, esto significa que hay paréntesis mal posicionados.'''"
      ],
      "metadata": {
        "colab": {
          "base_uri": "https://localhost:8080/"
        },
        "id": "E54kMorMRsTG",
        "outputId": "367b4ad7-9441-433f-a0b6-fb869f14da17"
      },
      "execution_count": null,
      "outputs": [
        {
          "output_type": "stream",
          "name": "stdout",
          "text": [
            "Digite el número de casos a evaluar: 17\n",
            "(){((e)<b{y}>{a(x)}<z> )-}[y]{<(v) >g} f>(b)\n",
            "[ ](a)<[d]><t>(<e[/>t{t}]{d})((d)%){-}< >\n",
            "( )(u) {[f](g)(w) }{f}{v(<*>{g}f<t>(%))}{d<u>})(e[a](<<u>a>-( )))\n",
            "{{z}c}[ ][z<w>]{<< >h(y)>{w}[c]}(^[x][(t)-])\n",
            "{f(h)}({( )z{u}}{w{h}}[-][/z{c}{(}*)])[g]{y}\n",
            "[( )]y{[/]v}]](v)<b>[b<([d]f)-[f][%[-[]>(h)]\n",
            "(v{y}<v<+>[/(w)]>){g}<[<%>{{ }{/}v[v]}-(c)]>\n",
            "<{<e(z)>g}< >{w[/{z<y)}{f}]}>[b]({(y<u>[f][d])(x[y])v}%>\n",
            "((w){c}/)<y>[<[w(v{bv[}])]v[c]>{[z]h<{ }h>}<e>]\n",
            "[{[y]a{b}{ }}]<[<u>c<>>]h>{[u< >](t{h})<{v}x{c}>g}<{c}gf(+)\n",
            "[y]{-}{(((e)^)(z(d))[a]<[g]e>{v}(c[< {*}>(t)%])%)f}()\n",
            "(<[*]< >[<w( )>%<e{c}>]{+}(<b>^)v>){t< >}\n",
            "(b)(/)(b)[b]<>{g([v][{y}a]x)<d{{{{f}/[ ]}-}*}{%[ ](-)}>}\n",
            "<{{ }z}< >(f){[-< {t}{[ (w)]u}>]<+>-[%] >\n",
            "{<d>*(*){u}}{*<f>{v<c>}}{<u>( )<c(<x>c)<-[a]<f>{t}>(-)>{(w)u}}{c}\n",
            "<{-}(/)[[h]* (</>c{f}){ }t><[+]<e>[y]>(d)\n",
            "[d(b)][{{-}y[v(h)](v)<-{z}(-)[/]>}{<a>w}t]{ }[^][*](){{ }d}\n",
            "0 0 0 1 0 0 1 0 0 0 1 1 1 0 1 0 1\n"
          ]
        }
      ]
    },
    {
      "cell_type": "code",
      "source": [
        "#Caesar shift cipher\n",
        "\n",
        "abecedario=('a','b','c','d','e','f','g','h','i','j','k','l','m','n','o','p','q','r','s','t','u','v','w','x','y','z')\n",
        "ans=[]\n",
        "n=int(input('Digite el número de casos a considerar: '))\n",
        "k=int(input('Digite el número de cifrado: '))\n",
        "i=0\n",
        "\n",
        "while i < n:\n",
        "  frase=list(input().lower())\n",
        "  j=0\n",
        "  while j < len(frase):\n",
        "    if frase[j] != ' ' and frase[j] != '.':\n",
        "      if abecedario.index(frase[j])-k >= 0:\n",
        "        frase[j]=abecedario[abecedario.index(frase[j])-k]\n",
        "      else:\n",
        "        residuo=-(abecedario.index(frase[j])-k)\n",
        "        frase[j]=abecedario[len(abecedario)-residuo]\n",
        "    j+=1\n",
        "\n",
        "  frase=\"\".join(frase)\n",
        "  ans.append(frase.upper())\n",
        "  i+=1\n",
        "\n",
        "print(*ans, sep=' ')"
      ],
      "metadata": {
        "colab": {
          "base_uri": "https://localhost:8080/"
        },
        "id": "u5Im2ztBXtMs",
        "outputId": "a39e301a-8c9b-4ec7-f913-3a837db530d0"
      },
      "execution_count": null,
      "outputs": [
        {
          "output_type": "stream",
          "name": "stdout",
          "text": [
            "Digite el número de casos a considerar: 7\n",
            "Digite el número de cifrado: 6\n",
            "ZNK UTIK GTJ LAZAXK QOTM IGRRKJ OZ ZNK XOYOTM YAT LUAX YIUXK GTJ YKBKT EKGXY GMU.\n",
            "OT GTIOKTZ VKXYOG ZNKXK CGY G QOTM ZNK JKGJ HAXE ZNKOX UCT JKGJ MOBK EUAX XUUQY HAZ TUZ JORGXGS.\n",
            "CNU CGTZY ZU ROBK LUXKBKX ZU AY OT URJKT YZUXOKY.\n",
            "RUBKYZ ZNUA SK VKZKX.\n",
            "GY KGYE GY REOTM.\n",
            "ZNK YKIXKZ UL NKGZNKX GRK G JGE GZ ZNK XGIKY MXKKTLOKRJY GXK MUTK TUC.\n",
            "ZNGZ GRR SKT GXK IXKGZKJ KWAGR IGXZNGMK SAYZ HK JKYZXUEKJ.\n",
            "THE ONCE AND FUTURE KING CALLED IT THE RISING SUN FOUR SCORE AND SEVEN YEARS AGO. IN ANCIENT PERSIA THERE WAS A KING THE DEAD BURY THEIR OWN DEAD GIVE YOUR ROOKS BUT NOT DILARAM. WHO WANTS TO LIVE FOREVER TO US IN OLDEN STORIES. LOVEST THOU ME PETER. AS EASY AS LYING. THE SECRET OF HEATHER ALE A DAY AT THE RACES GREENFIELDS ARE GONE NOW. THAT ALL MEN ARE CREATED EQUAL CARTHAGE MUST BE DESTROYED.\n"
          ]
        }
      ]
    },
    {
      "cell_type": "code",
      "source": [
        "#Bit count\n",
        "\n",
        "import numpy as np #Toca con NumPy porque aparentemente Python es raro.\n",
        "\n",
        "nums=[int(i) for i in input().split()]\n",
        "ans=[]\n",
        "i=0\n",
        "\n",
        "while i < len(nums):\n",
        "  string=list(np.binary_repr(nums[i], width=32))\n",
        "  j=0\n",
        "  contador_unos=0\n",
        "  while j < len(string):\n",
        "    if string[j]=='1':\n",
        "      contador_unos+=1\n",
        "    j+=1\n",
        "  ans.append(contador_unos)\n",
        "  i+=1\n",
        "\n",
        "print(*ans, sep=' ')"
      ],
      "metadata": {
        "colab": {
          "base_uri": "https://localhost:8080/"
        },
        "id": "euIwg8Kifh_V",
        "outputId": "9ce447ca-7e57-4298-ddd3-501a0050a3c9"
      },
      "execution_count": null,
      "outputs": [
        {
          "output_type": "stream",
          "name": "stdout",
          "text": [
            "-100 -2143446 748010 8502 -11 -7205663 738230 -1822042828 841267992 3500 -20 6 189166 -831000274 -135 1592 -174370 -988617 -13320766 9103589 458647838 -6 -62102431 -221123 -13561 -14333364 -153585976 -1668523990 -1451 -798498 -9 6125 -5398 22512604 -160074 7486223 739319 -169027898 -1708 -11 -9197 -1310184646\n",
            "28 22 12 6 30 17 11 16 13 7 29 2 11 20 29 5 25 22 20 12 16 30 15 21 24 17 18 13 26 23 31 10 26 14 24 13 14 20 25 30 24 16\n"
          ]
        }
      ]
    },
    {
      "cell_type": "code",
      "source": [
        "#Triangle area\n",
        "\n",
        "coords=[int(i) for i in input().split()]\n",
        "ans=[]\n",
        "i=0\n",
        "\n",
        "while i < len(coords):\n",
        "  a=((coords[i+2]-coords[i])**2 + (coords[i+3]-coords[i+1])**2)**(1/2)\n",
        "  b=((coords[i+4]-coords[i+2])**2 + (coords[i+5]-coords[i+3])**2)**(1/2)\n",
        "  c=((coords[i]-coords[i+4])**2 + (coords[i+1]-coords[i+5])**2)**(1/2)\n",
        "  s=(a+b+c)/2 #Semiperímetro del triángulo.\n",
        "  area=(s*(s-a)*(s-b)*(s-c))**(1/2) #Fórmula de Herón para el área de un triángulo cuando se conocen todos sus lados.\n",
        "  ans.append(area)\n",
        "  i+=6\n",
        "\n",
        "print(*ans, sep=' ')"
      ],
      "metadata": {
        "id": "dq0FmWZ8iQZF",
        "colab": {
          "base_uri": "https://localhost:8080/"
        },
        "outputId": "38680209-a16a-49ca-d1c3-7c0e2fce481e"
      },
      "execution_count": null,
      "outputs": [
        {
          "output_type": "stream",
          "name": "stdout",
          "text": [
            "1455 8925 371 5993 1164 9562 5274 8937 7106 681 4897 2054 165 3215 9123 6276 2909 8327 6230 44 9103 252 3400 491 5192 2330 409 9243 8250 1709 6894 992 2647 2448 7022 7886 7134 6407 8421 6475 4040 9909 2001 667 1956 159 275 5391 3151 1699 3931 1369 3523 6156 1416 4276 3388 8231 2287 1781 7353 4892 3856 7438 7276 9721 7671 5399 8732 6959 4334 8977 9519 5009 2511 6375 4297 6149 862 1944 979 7984 3514 8647\n",
            "771859.9999999981 7861083.999999995 18696956.0 936435.5000000203 9084855.499999968 14732593.000000006 2358733.000000004 544694.000000005 1799610.0000000014 4182472.50000001 8345485.5 4500988.999999998 427934.00000000425 7616914.499999999\n"
          ]
        }
      ]
    },
    {
      "cell_type": "code",
      "source": [
        "#Rock, paper, scissors\n",
        "\n",
        "n=int(input('Digite el número de partidos a evaluar: '))\n",
        "R=[]\n",
        "i=0\n",
        "\n",
        "while i < n:\n",
        "  match=list([i for i in input() if i != ' '])\n",
        "  cont1,cont2=0,0\n",
        "  j=0\n",
        "  while j < len(match):\n",
        "    if match[j] == match[j+1]:\n",
        "      j+=2\n",
        "    elif (match[j] == 'R' and match[j+1] == 'S') or (match[j] == 'S' and match[j+1] == 'P') or (match[j] == 'P' and match[j+1] == 'R'):\n",
        "      cont1+=1\n",
        "      j+=2\n",
        "    elif (match[j+1] == 'R' and match[j] == 'S') or (match[j+1] == 'S' and match[j] == 'P') or (match[j+1] == 'P' and match[j] == 'R'):\n",
        "      cont2+=1\n",
        "      j+=2\n",
        "\n",
        "  if cont1 > cont2:\n",
        "    R.append(1)\n",
        "  else:\n",
        "    R.append(2)\n",
        "  i+=1\n",
        "\n",
        "print(*R, sep=' ')"
      ],
      "metadata": {
        "colab": {
          "base_uri": "https://localhost:8080/"
        },
        "id": "iA0TaAZemBpy",
        "outputId": "139038b1-c519-4f6e-c90e-9033523a9f05"
      },
      "execution_count": null,
      "outputs": [
        {
          "output_type": "stream",
          "name": "stdout",
          "text": [
            "Digite el número de partidos a evaluar: 21\n",
            "PP PR SS SR SR SP SP\n",
            "PR RR RS SS RS PP RP SP RR SS SS RP RP PP RP PR SP\n",
            "SR RP RS PR PP SS SR\n",
            "SR RP PR SS PR RP\n",
            "SP SS SS RP SS RR PR SP\n",
            "RS SS PP PP RR SR RR RR SS PS RR SP PP RS\n",
            "SP SR PP SP RS PS RP PR PR PP RP SR PS\n",
            "RS SS PR SR SP PR\n",
            "PS PR PP SP SR SS RR SR PP PS PR SR\n",
            "SS RS SS SS PP PP SP PS RR SS RR RS\n",
            "SR PP PR PP SR PR SS SR PP SR PS PS\n",
            "SS RP RS PR RR RP RS\n",
            "SP SS SP PP PP PP SP PS SR PS SS PS\n",
            "RP RR RS PR SR PR\n",
            "PP PS RP PR PR SS SR SR SS SR SP SS RR RP\n",
            "SS SR PP SP PS SS SR PP SP SS RP RR RR RR RS PS PP PP PR SR\n",
            "PP RS RP PP RR SS SP SS PS PS SS RP SR\n",
            "RR SP PR RS\n",
            "PS PP RP SP RS SS PP PR\n",
            "PS PS SP RR RP\n",
            "PP SS SR SS RS RP SP SS RP RS SP RR SP SS RS\n",
            "1 1 2 2 1 1 2 1 2 1 2 1 2 1 2 2 2 1 1 2 1\n"
          ]
        }
      ]
    },
    {
      "cell_type": "code",
      "source": [
        "#Card names (Este estuvo divertido)\n",
        "\n",
        "suits=['Clubs', 'Spades', 'Diamonds', 'Hearts']\n",
        "ranks=['2', '3', '4', '5', '6', '7', '8', '9', '10', 'Jack', 'Queen', 'King', 'Ace']\n",
        "cards=[int(i) for i in input().split()]\n",
        "out=[]\n",
        "i=0\n",
        "\n",
        "while i < len(cards):\n",
        "  card_value=cards[i]\n",
        "  suit_value=card_value//13\n",
        "  rank_value=card_value % 13\n",
        "  out.append(ranks[rank_value]+'-of-'+suits[suit_value])\n",
        "  i+=1\n",
        "\n",
        "print(*out, sep=' ')"
      ],
      "metadata": {
        "colab": {
          "base_uri": "https://localhost:8080/"
        },
        "id": "XmecXthpynzj",
        "outputId": "06bdac8c-1c7d-4c44-b83d-bd1ef3eeab95"
      },
      "execution_count": null,
      "outputs": [
        {
          "output_type": "stream",
          "name": "stdout",
          "text": [
            "25 24 22 21 18 5 46 49 51 20 29 38 32 0 50 13 3 10 19 9 2\n",
            "Ace-of-Spades King-of-Spades Jack-of-Spades 10-of-Spades 7-of-Spades 7-of-Clubs 9-of-Hearts Queen-of-Hearts Ace-of-Hearts 9-of-Spades 5-of-Diamonds Ace-of-Diamonds 8-of-Diamonds 2-of-Clubs King-of-Hearts 2-of-Spades 5-of-Clubs Queen-of-Clubs 8-of-Spades Jack-of-Clubs 4-of-Clubs\n"
          ]
        }
      ]
    }
  ]
}